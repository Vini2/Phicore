{
 "cells": [
  {
   "cell_type": "markdown",
   "metadata": {},
   "source": [
    "# Plot function"
   ]
  },
  {
   "cell_type": "code",
   "execution_count": 2,
   "metadata": {},
   "outputs": [],
   "source": [
    "# Imports\n",
    "import pandas as pd\n",
    "import seaborn as sns\n",
    "import matplotlib.pyplot as plt"
   ]
  },
  {
   "cell_type": "markdown",
   "metadata": {},
   "source": [
    "## Test dataframe"
   ]
  },
  {
   "cell_type": "code",
   "execution_count": 59,
   "metadata": {},
   "outputs": [
    {
     "name": "stdout",
     "output_type": "stream",
     "text": [
      "                 Val1  Val2  Val3\n",
      "Genome position                  \n",
      "0                 0.0   0.0   0.0\n",
      "10                0.4   0.4   0.4\n",
      "20                0.2   0.2   0.2\n",
      "30                0.3   0.3   0.3\n"
     ]
    }
   ],
   "source": [
    "df = {'Genome position': [0, 10, 20, 30], 'Val1': [0, 0.4, 0.2, 0.3], 'Val2': [0, 0.4, 0.2, 0.3],  'Val3': [0, 0.4, 0.2, 0.3]}\n",
    "\n",
    "df = pd.DataFrame(df)\n",
    "df = df.set_index('Genome position')\n",
    "\n",
    "columns=list(df.columns)\n",
    "\n",
    "# Rename column names\n",
    "# data.rename(columns={'gdp':'log(gdp)'}, inplace=True)\n",
    "\n",
    "# Merge dataframes\n",
    "# big_df = pd.merge(big_df, df, on='Genome position', how='outer')\n",
    "\n",
    "# Filter NaN\n",
    "# data[\"Val1\"].fillna(0, inplace = True) \n",
    "\n",
    "print(df)"
   ]
  },
  {
   "cell_type": "markdown",
   "metadata": {},
   "source": [
    "## Visualise function"
   ]
  },
  {
   "cell_type": "code",
   "execution_count": 62,
   "metadata": {},
   "outputs": [],
   "source": [
    "def visualise(df, length, labels, style=\"o\"):\n",
    "\n",
    "    \"\"\"\n",
    "    df: dataframe\n",
    "    length: length of genomes\n",
    "    lables: lables of stats\n",
    "    \"\"\"\n",
    "\n",
    "    axes = df.plot.line(subplots=True, figsize=(16, 8), legend=False, style=style)\n",
    "\n",
    "    for i in range(len(axes)):\n",
    "        axes[i].set_xlim(0, length)\n",
    "        axes[i].yaxis.grid()\n",
    "        axes[i].set_axisbelow(True)\n",
    "        axes[i].set(ylabel=labels[i])\n",
    "\n",
    "        "
   ]
  },
  {
   "cell_type": "code",
   "execution_count": 63,
   "metadata": {},
   "outputs": [
    {
     "data": {
      "image/png": "[encoded data removed]",
      "text/plain": [
       "<Figure size 1152x576 with 3 Axes>"
      ]
     },
     "metadata": {
      "needs_background": "light"
     },
     "output_type": "display_data"
    }
   ],
   "source": [
    "visualise(df, 40, columns)"
   ]
  }
 ],
 "metadata": {
  "kernelspec": {
   "display_name": "Python 3.9.13 ('base')",
   "language": "python",
   "name": "python3"
  },
  "language_info": {
   "codemirror_mode": {
    "name": "ipython",
    "version": 3
   },
   "file_extension": ".py",
   "mimetype": "text/x-python",
   "name": "python",
   "nbconvert_exporter": "python",
   "pygments_lexer": "ipython3",
   "version": "3.9.13"
  },
  "orig_nbformat": 4,
  "vscode": {
   "interpreter": {
    "hash": "33706bd42872ba5765ace0c09ea00bfaf479a6a3266c5a96176597eadc6202ce"
   }
  }
 },
 "nbformat": 4,
 "nbformat_minor": 2
}
