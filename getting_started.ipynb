{
 "cells": [
  {
   "cell_type": "code",
   "execution_count": 5,
   "metadata": {},
   "outputs": [],
   "source": [
    "import os\n",
    "import numpy as np\n",
    "import pandas as pd\n",
    "import glob\n",
    "from Bio import SeqIO"
   ]
  },
  {
   "cell_type": "code",
   "execution_count": 16,
   "metadata": {},
   "outputs": [],
   "source": [
    "def genbank_seqio(gbkf, verbose=False):\n",
    "    \"\"\"\n",
    "    Get the parser stream\n",
    "    :param gbkf: genbank file\n",
    "    :param verbose:\n",
    "    :return:\n",
    "    \"\"\"\n",
    "\n",
    "    handle = open(gbkf, 'r')\n",
    "\n",
    "    return SeqIO.parse(handle, \"genbank\")\n",
    "\n",
    "def get_features_of_type(seqio, ftype):\n",
    "    \"\"\"\n",
    "    Get the features\n",
    "    :param seqio:\n",
    "    :param ftype:\n",
    "    :return:\n",
    "    \"\"\"\n",
    "\n",
    "    features = []\n",
    "    for seq in seqio:\n",
    "        for feature in seq.features:\n",
    "            if feature.type == ftype:\n",
    "                yield feature\n",
    "\n",
    "def GC(seq):\n",
    "    \"\"\"\n",
    "    Calculate GC content1\n",
    "    :param seq:\n",
    "    :return:\n",
    "    \"\"\"\n",
    "\n",
    "    gc = 0\n",
    "    for i in seq:\n",
    "        if i == 'G' or i == 'C':\n",
    "            gc += 1\n",
    "    return gc / len(seq)\n",
    "\n",
    "def get_average_cds_length(seqio):\n",
    "    \"\"\"\n",
    "    Get average CDS length\n",
    "    :param seqio:\n",
    "    :return:\n",
    "    \"\"\"\n",
    "\n",
    "    cds_length = 0\n",
    "    for seq in seqio:\n",
    "        for feature in seq.features:\n",
    "            if feature.type == 'CDS':\n",
    "                cds_length += len(feature.location.extract(seq).seq)\n",
    "    return cds_length / len(seqio)\n",
    "\n",
    "def get_median_cds_length(seqio):\n",
    "    \"\"\"\n",
    "    Get median CDS length\n",
    "    :param seqio:\n",
    "    :return:\n",
    "    \"\"\"\n",
    "\n",
    "    cds_length = []\n",
    "    for seq in seqio:\n",
    "        for feature in seq.features:\n",
    "            if feature.type == 'CDS':\n",
    "                cds_length.append(len(feature.location.extract(seq).seq))\n",
    "    return np.median(cds_length)\n",
    "\n",
    "def get_coding_density(seqiorec, ftypes=['CDS']):\n",
    "    \"\"\"\n",
    "    Get coding density for a single record\n",
    "    :param seqio:\n",
    "    :param ftypes:\n",
    "    :return:\n",
    "    \"\"\"\n",
    "\n",
    "    cdcov = np.zeros(len(seqiorec.seq))\n",
    "    for feature in seqiorec.features:\n",
    "        if feature.type in ftypes:\n",
    "            start, stop = map(int, sorted([feature.location.start, feature.location.end]))\n",
    "            cdcov[start:stop] += 1\n",
    "    return sum([1 if x > 0 else 0 for x in cdcov]) / len(seqiorec.seq)\n",
    "\n"
   ]
  },
  {
   "cell_type": "code",
   "execution_count": 23,
   "metadata": {},
   "outputs": [
    {
     "name": "stdout",
     "output_type": "stream",
     "text": [
      "0.9494116001678288\n"
     ]
    },
    {
     "name": "stderr",
     "output_type": "stream",
     "text": [
      "/home/dec/miniconda3/lib/python3.9/site-packages/Bio/GenBank/__init__.py:1288: BiopythonParserWarning: The NCBI states double-quote characters like \" should be escaped as \"\" (two double - quotes), but here it was not: 'weight=-1.60E+4;\" 92033_gap 92355_gap'\n",
      "  warnings.warn(\n"
     ]
    }
   ],
   "source": [
    "infile = '../selgenome.phanotate2/Bc01.fasta.TAA,TAG,TGA.gbk'# no gap line\n",
    "# infile = '../test.gbk' # with gap line\n",
    "for record in genbank_seqio(infile):\n",
    "    cd = get_coding_density(record, ['3 CDS'])\n",
    "    print(cd)"
   ]
  },
  {
   "cell_type": "code",
   "execution_count": null,
   "metadata": {},
   "outputs": [],
   "source": []
  }
 ],
 "metadata": {
  "kernelspec": {
   "display_name": "Python 3.9.12 ('base')",
   "language": "python",
   "name": "python3"
  },
  "language_info": {
   "codemirror_mode": {
    "name": "ipython",
    "version": 3
   },
   "file_extension": ".py",
   "mimetype": "text/x-python",
   "name": "python",
   "nbconvert_exporter": "python",
   "pygments_lexer": "ipython3",
   "version": "3.9.12"
  },
  "orig_nbformat": 4,
  "vscode": {
   "interpreter": {
    "hash": "08829089b8420cee51176c00dfbb80c517ddb771c0f915ce4701dca739baf8ec"
   }
  }
 },
 "nbformat": 4,
 "nbformat_minor": 2
}
