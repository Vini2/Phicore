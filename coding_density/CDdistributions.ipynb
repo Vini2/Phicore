{
 "cells": [
  {
   "cell_type": "code",
   "execution_count": 10,
   "id": "171a4950-5b02-489e-82e5-63d01a310a19",
   "metadata": {},
   "outputs": [],
   "source": [
    "import os\n",
    "import sys\n",
    "import pandas as pd\n",
    "import seaborn as sns\n",
    "import matplotlib.pyplot as plt\n",
    "import Bio\n",
    "\n",
    "sys.path.insert(0,'../')\n",
    "from PhicoreModules import parse_genbank, mean, median, mode, visualise"
   ]
  },
  {
   "cell_type": "code",
   "execution_count": 20,
   "id": "5d9ad5a7-0c44-41aa-bdaa-1bbe9a6dc573",
   "metadata": {},
   "outputs": [],
   "source": [
    "def coding_regions(record: Bio.SeqRecord.SeqRecord, verbose: bool = False) -> list[int]:\n",
    "    \"\"\"\n",
    "    calculate a list of ints of the regions that are coding for the record\n",
    "    \n",
    "    :param record: The genbank record entry (ie. one sequence record)\n",
    "    :param verbose: more output\n",
    "    :return : a list of 1's and 0's. 1: the base is encoding. 0: the base is not\n",
    "    \"\"\"\n",
    "    \n",
    "    seqlen = len(entry.seq)\n",
    "    coding = [0 for i in range(seqlen)]\n",
    "    for feat in entry.features:\n",
    "        if feat.type != 'CDS':\n",
    "            print(f\"Skipped feature of type: {feat.type}\", file=sys.stderr)\n",
    "            continue\n",
    "        (start, stop, strand) = (feat.location.start.position, feat.location.end.position, feat.strand)\n",
    "        for i in range(start, stop):\n",
    "            coding[i] = 1\n",
    "    return coding"
   ]
  },
  {
   "cell_type": "code",
   "execution_count": 6,
   "id": "23a415f5-e081-4c12-bfcc-4502e809bee9",
   "metadata": {},
   "outputs": [],
   "source": [
    "def coding_stats(coding: list[int], window: int, step: int, verbose: bool = False) -> dict[str, int]:\n",
    "    \"\"\"\n",
    "    Calculate the statistics for this coding window\n",
    "    :param coding: the list of coding/not coding regions(a list of 1's and 0's)\n",
    "    :param window: the window to calculate the average across\n",
    "    :param step: the step size between windows\n",
    "    :param verbose: more output\n",
    "    :return : a dictionary summaring the statistics\n",
    "    \"\"\"\n",
    "    \n",
    "    winbeg = 0\n",
    "    allcd = {}\n",
    "\n",
    "    while winbeg + step + window < len(coding):\n",
    "        winend = winbeg + window\n",
    "        cd = sum(coding[winbeg:winend])/window\n",
    "        allcd[winbeg] = cd\n",
    "        winbeg += step\n",
    "    \n",
    "    return {\n",
    "        'mean': sum(allcd.values())/len(allcd.values()),\n",
    "        'median' : median(list(allcd.values())),\n",
    "        'mode': mode(allcd.values()),\n",
    "        'minimum': min(allcd.values()),\n",
    "        'maximum': max(allcd.values()),\n",
    "        'all': allcd\n",
    "    }\n",
    "        "
   ]
  },
  {
   "cell_type": "code",
   "execution_count": 21,
   "id": "8fa24119-b293-469a-8f7c-75207b777e7a",
   "metadata": {},
   "outputs": [],
   "source": [
    "file='../genbank/Bc01-TAA.gbk'\n",
    "seq = parse_genbank(file)"
   ]
  },
  {
   "cell_type": "code",
   "execution_count": 22,
   "id": "0aeaed4e-ac37-4151-b64e-3cf14d8952cc",
   "metadata": {},
   "outputs": [
    {
     "name": "stdout",
     "output_type": "stream",
     "text": [
      "{'mean': 0.9679961666666649, 'median': 0.9711, 'mode': 0.9962, 'minimum': 0.874, 'maximum': 1.0, 'all': {0: 0.9859, 150: 0.9949, 300: 0.9949, 450: 0.9949, 600: 0.9949, 750: 0.9949, 900: 0.9949, 1050: 0.9949, 1200: 0.9949, 1350: 0.9949, 1500: 0.9949, 1650: 0.9949, 1800: 0.9949, 1950: 0.9949, 2100: 0.9949, 2250: 0.9949, 2400: 0.9974, 2550: 0.9968, 2700: 0.9968, 2850: 0.9968, 3000: 0.9968, 3150: 0.9968, 3300: 0.9968, 3450: 0.9968, 3600: 0.9968, 3750: 0.9968, 3900: 0.9968, 4050: 0.9968, 4200: 0.9968, 4350: 0.9968, 4500: 0.9871, 4650: 0.9871, 4800: 0.9871, 4950: 0.9876, 5100: 0.9876, 5250: 0.9889, 5400: 0.9889, 5550: 0.9888, 5700: 0.9888, 5850: 0.9887, 6000: 0.9887, 6150: 0.9887, 6300: 0.9887, 6450: 0.9852, 6600: 0.9786, 6750: 0.9786, 6900: 0.9786, 7050: 0.9786, 7200: 0.9786, 7350: 0.9786, 7500: 0.9786, 7650: 0.9786, 7800: 0.9752, 7950: 0.976, 8100: 0.976, 8250: 0.976, 8400: 0.976, 8550: 0.976, 8700: 0.976, 8850: 0.976, 9000: 0.976, 9150: 0.976, 9300: 0.9692, 9450: 0.9689, 9600: 0.9689, 9750: 0.9689, 9900: 0.9689, 10050: 0.9689, 10200: 0.9689, 10350: 0.9685, 10500: 0.9685, 10650: 0.9685, 10800: 0.9685, 10950: 0.9685, 11100: 0.9685, 11250: 0.9685, 11400: 0.9685, 11550: 0.9685, 11700: 0.9685, 11850: 0.9654, 12000: 0.9654, 12150: 0.9654, 12300: 0.9654, 12450: 0.9654, 12600: 0.966, 12750: 0.9655, 12900: 0.9589, 13050: 0.9589, 13200: 0.9589, 13350: 0.9589, 13500: 0.9589, 13650: 0.9589, 13800: 0.9589, 13950: 0.9589, 14100: 0.9589, 14250: 0.9589, 14400: 0.9631, 14550: 0.9601, 14700: 0.9586, 14850: 0.9586, 15000: 0.9586, 15150: 0.9586, 15300: 0.9586, 15450: 0.9586, 15600: 0.9587, 15750: 0.9587, 15900: 0.9588, 16050: 0.9588, 16200: 0.9588, 16350: 0.9588, 16500: 0.9673, 16650: 0.9689, 16800: 0.9689, 16950: 0.9689, 17100: 0.9689, 17250: 0.9688, 17400: 0.9688, 17550: 0.9688, 17700: 0.9705, 17850: 0.9722, 18000: 0.9722, 18150: 0.9722, 18300: 0.9722, 18450: 0.9722, 18600: 0.9722, 18750: 0.9722, 18900: 0.9722, 19050: 0.9722, 19200: 0.9722, 19350: 0.9793, 19500: 0.9793, 19650: 0.9793, 19800: 0.9793, 19950: 0.9793, 20100: 0.9793, 20250: 0.9793, 20400: 0.9797, 20550: 0.9797, 20700: 0.9797, 20850: 0.9797, 21000: 0.9797, 21150: 0.9797, 21300: 0.9797, 21450: 0.977, 21600: 0.9647, 21750: 0.9659, 21900: 0.9624, 22050: 0.9578, 22200: 0.9578, 22350: 0.9578, 22500: 0.9578, 22650: 0.9578, 22800: 0.9633, 22950: 0.9649, 23100: 0.9649, 23250: 0.9649, 23400: 0.9649, 23550: 0.9649, 23700: 0.9649, 23850: 0.9649, 24000: 0.9649, 24150: 0.9649, 24300: 0.9649, 24450: 0.9649, 24600: 0.9749, 24750: 0.9749, 24900: 0.9749, 25050: 0.9749, 25200: 0.9749, 25350: 0.9749, 25500: 0.9749, 25650: 0.9749, 25800: 0.9749, 25950: 0.9749, 26100: 0.9749, 26250: 0.9749, 26400: 0.9749, 26550: 0.9749, 26700: 0.9749, 26850: 0.9749, 27000: 0.9749, 27150: 0.9749, 27300: 0.975, 27450: 0.975, 27600: 0.975, 27750: 0.975, 27900: 0.975, 28050: 0.975, 28200: 0.975, 28350: 0.975, 28500: 0.975, 28650: 0.975, 28800: 0.975, 28950: 0.975, 29100: 0.975, 29250: 0.975, 29400: 0.975, 29550: 0.975, 29700: 0.975, 29850: 0.975, 30000: 0.975, 30150: 0.975, 30300: 0.975, 30450: 0.975, 30600: 0.975, 30750: 0.975, 30900: 0.975, 31050: 0.975, 31200: 0.975, 31350: 0.9777, 31500: 0.9822, 31650: 0.99, 31800: 0.9954, 31950: 0.9966, 32100: 1.0, 32250: 1.0, 32400: 1.0, 32550: 1.0, 32700: 1.0, 32850: 1.0, 33000: 1.0, 33150: 1.0, 33300: 0.9962, 33450: 0.9962, 33600: 0.9962, 33750: 0.9962, 33900: 0.9962, 34050: 0.9962, 34200: 0.9962, 34350: 0.9962, 34500: 0.9962, 34650: 0.9962, 34800: 0.9962, 34950: 0.9962, 35100: 0.9962, 35250: 0.9962, 35400: 0.9962, 35550: 0.9962, 35700: 0.9962, 35850: 0.9962, 36000: 0.9962, 36150: 0.9962, 36300: 0.9962, 36450: 0.9962, 36600: 0.9962, 36750: 0.9962, 36900: 0.9962, 37050: 0.9962, 37200: 0.9962, 37350: 0.9962, 37500: 0.9962, 37650: 0.9962, 37800: 0.9962, 37950: 0.9962, 38100: 0.9962, 38250: 0.9962, 38400: 0.9962, 38550: 0.9962, 38700: 0.9962, 38850: 0.9962, 39000: 0.9962, 39150: 0.9962, 39300: 0.9962, 39450: 0.9962, 39600: 0.9962, 39750: 0.9962, 39900: 0.9962, 40050: 0.9962, 40200: 0.9962, 40350: 0.9962, 40500: 0.9962, 40650: 0.9962, 40800: 0.9962, 40950: 0.9962, 41100: 0.9962, 41250: 0.9962, 41400: 0.9962, 41550: 0.9962, 41700: 0.9962, 41850: 0.9962, 42000: 0.9962, 42150: 0.9962, 42300: 0.9962, 42450: 0.9962, 42600: 0.9962, 42750: 0.9962, 42900: 0.9962, 43050: 0.9962, 43200: 0.9978, 43350: 1.0, 43500: 1.0, 43650: 1.0, 43800: 1.0, 43950: 1.0, 44100: 1.0, 44250: 1.0, 44400: 1.0, 44550: 0.9996, 44700: 0.9952, 44850: 0.9952, 45000: 0.9952, 45150: 0.9952, 45300: 0.9941, 45450: 0.9941, 45600: 0.9941, 45750: 0.9941, 45900: 0.9941, 46050: 0.9941, 46200: 0.9941, 46350: 0.9923, 46500: 0.9923, 46650: 0.9923, 46800: 0.9923, 46950: 0.9904, 47100: 0.986, 47250: 0.9842, 47400: 0.9842, 47550: 0.9842, 47700: 0.9842, 47850: 0.9842, 48000: 0.9841, 48150: 0.9841, 48300: 0.9841, 48450: 0.9806, 48600: 0.9806, 48750: 0.9723, 48900: 0.9691, 49050: 0.9691, 49200: 0.9691, 49350: 0.9691, 49500: 0.9643, 49650: 0.9643, 49800: 0.9643, 49950: 0.9643, 50100: 0.9643, 50250: 0.9643, 50400: 0.9643, 50550: 0.9643, 50700: 0.9643, 50850: 0.9643, 51000: 0.9643, 51150: 0.9643, 51300: 0.9643, 51450: 0.9633, 51600: 0.9574, 51750: 0.9574, 51900: 0.9574, 52050: 0.9574, 52200: 0.9574, 52350: 0.9574, 52500: 0.9574, 52650: 0.9574, 52800: 0.9574, 52950: 0.9574, 53100: 0.9574, 53250: 0.9574, 53400: 0.9574, 53550: 0.9574, 53700: 0.9574, 53850: 0.9574, 54000: 0.9574, 54150: 0.9574, 54300: 0.9574, 54450: 0.9574, 54600: 0.9578, 54750: 0.9622, 54900: 0.9622, 55050: 0.9622, 55200: 0.9622, 55350: 0.9632, 55500: 0.9632, 55650: 0.9632, 55800: 0.9632, 55950: 0.9632, 56100: 0.9632, 56250: 0.9632, 56400: 0.965, 56550: 0.965, 56700: 0.965, 56850: 0.9669, 57000: 0.9669, 57150: 0.9731, 57300: 0.9731, 57450: 0.9731, 57600: 0.9731, 57750: 0.9731, 57900: 0.9687, 58050: 0.9606, 58200: 0.9532, 58350: 0.9505, 58500: 0.9483, 58650: 0.9451, 58800: 0.9566, 58950: 0.9557, 59100: 0.9541, 59250: 0.9541, 59400: 0.9575, 59550: 0.9589, 59700: 0.9589, 59850: 0.9589, 60000: 0.9589, 60150: 0.9589, 60300: 0.9589, 60450: 0.9589, 60600: 0.9589, 60750: 0.9589, 60900: 0.9589, 61050: 0.9589, 61200: 0.9589, 61350: 0.9589, 61500: 0.9603, 61650: 0.9658, 61800: 0.9658, 61950: 0.9658, 62100: 0.9658, 62250: 0.9658, 62400: 0.9658, 62550: 0.9658, 62700: 0.9658, 62850: 0.9658, 63000: 0.9658, 63150: 0.9658, 63300: 0.9658, 63450: 0.9658, 63600: 0.9658, 63750: 0.9658, 63900: 0.9658, 64050: 0.9658, 64200: 0.9658, 64350: 0.9658, 64500: 0.9658, 64650: 0.9658, 64800: 0.9658, 64950: 0.9658, 65100: 0.9658, 65250: 0.9658, 65400: 0.9597, 65550: 0.9597, 65700: 0.9597, 65850: 0.9597, 66000: 0.9597, 66150: 0.9572, 66300: 0.9572, 66450: 0.9572, 66600: 0.9572, 66750: 0.9572, 66900: 0.9572, 67050: 0.956, 67200: 0.9552, 67350: 0.9552, 67500: 0.9552, 67650: 0.9552, 67800: 0.9552, 67950: 0.9646, 68100: 0.9654, 68250: 0.9748, 68400: 0.9796, 68550: 0.9817, 68700: 0.9844, 68850: 0.9844, 69000: 0.9853, 69150: 0.9869, 69300: 0.9869, 69450: 0.9853, 69600: 0.9853, 69750: 0.9853, 69900: 0.9853, 70050: 0.9853, 70200: 0.9853, 70350: 0.9853, 70500: 0.9853, 70650: 0.985, 70800: 0.985, 70950: 0.985, 71100: 0.985, 71250: 0.985, 71400: 0.9844, 71550: 0.9805, 71700: 0.979, 71850: 0.979, 72000: 0.979, 72150: 0.979, 72300: 0.979, 72450: 0.979, 72600: 0.979, 72750: 0.979, 72900: 0.979, 73050: 0.979, 73200: 0.979, 73350: 0.979, 73500: 0.979, 73650: 0.979, 73800: 0.9776, 73950: 0.9774, 74100: 0.9774, 74250: 0.9774, 74400: 0.9774, 74550: 0.9774, 74700: 0.9774, 74850: 0.9666, 75000: 0.9624, 75150: 0.9624, 75300: 0.965, 75450: 0.9686, 75600: 0.9686, 75750: 0.9686, 75900: 0.9686, 76050: 0.9711, 76200: 0.9711, 76350: 0.9711, 76500: 0.9692, 76650: 0.9692, 76800: 0.9692, 76950: 0.9671, 77100: 0.9691, 77250: 0.9691, 77400: 0.9691, 77550: 0.9691, 77700: 0.965, 77850: 0.9609, 78000: 0.963, 78150: 0.9633, 78300: 0.9578, 78450: 0.9578, 78600: 0.9578, 78750: 0.9578, 78900: 0.9578, 79050: 0.9578, 79200: 0.9567, 79350: 0.9567, 79500: 0.9579, 79650: 0.9579, 79800: 0.9578, 79950: 0.9578, 80100: 0.9578, 80250: 0.9578, 80400: 0.946, 80550: 0.946, 80700: 0.9401, 80850: 0.9388, 81000: 0.9388, 81150: 0.9388, 81300: 0.9293, 81450: 0.9329, 81600: 0.9303, 81750: 0.9303, 81900: 0.9303, 82050: 0.9303, 82200: 0.926, 82350: 0.9119, 82500: 0.9084, 82650: 0.9084, 82800: 0.9084, 82950: 0.9084, 83100: 0.9044, 83250: 0.9044, 83400: 0.9044, 83550: 0.9044, 83700: 0.9044, 83850: 0.9058, 84000: 0.906, 84150: 0.9001, 84300: 0.9001, 84450: 0.8985, 84600: 0.8985, 84750: 0.9023, 84900: 0.9076, 85050: 0.9108, 85200: 0.9079, 85350: 0.9075, 85500: 0.9075, 85650: 0.8955, 85800: 0.8955, 85950: 0.8948, 86100: 0.8909, 86250: 0.8909, 86400: 0.8909, 86550: 0.8909, 86700: 0.8869, 86850: 0.889, 87000: 0.889, 87150: 0.889, 87300: 0.8853, 87450: 0.8837, 87600: 0.8789, 87750: 0.874, 87900: 0.8781, 88050: 0.8781, 88200: 0.8781, 88350: 0.8833, 88500: 0.8833, 88650: 0.8833, 88800: 0.8833, 88950: 0.8833, 89100: 0.8833, 89250: 0.8844, 89400: 0.8794, 89550: 0.8798, 89700: 0.8798, 89850: 0.8799}}\n"
     ]
    },
    {
     "name": "stderr",
     "output_type": "stream",
     "text": [
      "/home/edwa0468/.local/lib/python3.9/site-packages/Bio/GenBank/Scanner.py:1554: BiopythonParserWarning: Malformed LOCUS line found - is this correct?\n",
      ":'LOCUS       cluster_001_consensus    100102 bp    DNA             PHG\\n'\n",
      "  warnings.warn(\n",
      "Skipped feature of type: source\n"
     ]
    }
   ],
   "source": [
    "for entry in seq.records:\n",
    "    coding = coding_regions(entry)\n",
    "    stats = coding_stats(coding, 10000, 150)\n",
    "    print(stats)"
   ]
  },
  {
   "cell_type": "code",
   "execution_count": 23,
   "id": "1563c156-a70e-4eec-a5e3-1e7024bf329e",
   "metadata": {},
   "outputs": [
    {
     "name": "stderr",
     "output_type": "stream",
     "text": [
      "Skipped feature of type: source\n",
      "Skipped feature of type: source\n",
      "Skipped feature of type: source\n",
      "Skipped feature of type: source\n",
      "Skipped feature of type: source\n",
      "Skipped feature of type: source\n",
      "Skipped feature of type: source\n"
     ]
    }
   ],
   "source": [
    "gbkdir = '../genbank/'\n",
    "data = {}\n",
    "for file in os.listdir(gbkdir):\n",
    "    if not 'Bc01-' in file:\n",
    "        continue\n",
    "    seq = parse_genbank(os.path.join(gbkdir, file))\n",
    "    \n",
    "    for entry in seq.records:\n",
    "        coding = coding_regions(entry)\n",
    "        stats = coding_stats(coding, 2000, 150)\n",
    "        data[file] = [stats['mean'], stats['median'], stats['mode'], stats['minimum'], stats['maximum']]\n",
    "    \n",
    "df = pd.DataFrame.from_dict(data, orient='index', columns=['mean', 'median', 'mode', 'minimum', 'maximum'])"
   ]
  },
  {
   "cell_type": "code",
   "execution_count": 18,
   "id": "6ceb074a-e0d2-4c31-971d-cbaeb374c255",
   "metadata": {},
   "outputs": [
    {
     "data": {
      "text/html": [
       "<div>\n",
       "<style scoped>\n",
       "    .dataframe tbody tr th:only-of-type {\n",
       "        vertical-align: middle;\n",
       "    }\n",
       "\n",
       "    .dataframe tbody tr th {\n",
       "        vertical-align: top;\n",
       "    }\n",
       "\n",
       "    .dataframe thead th {\n",
       "        text-align: right;\n",
       "    }\n",
       "</style>\n",
       "<table border=\"1\" class=\"dataframe\">\n",
       "  <thead>\n",
       "    <tr style=\"text-align: right;\">\n",
       "      <th></th>\n",
       "      <th>mean</th>\n",
       "      <th>median</th>\n",
       "      <th>mode</th>\n",
       "      <th>minimum</th>\n",
       "      <th>maximum</th>\n",
       "    </tr>\n",
       "  </thead>\n",
       "  <tbody>\n",
       "    <tr>\n",
       "      <th>Bc01-TAA.gbk</th>\n",
       "      <td>0.965650</td>\n",
       "      <td>0.9845</td>\n",
       "      <td>1.0</td>\n",
       "      <td>0.7805</td>\n",
       "      <td>1.0</td>\n",
       "    </tr>\n",
       "    <tr>\n",
       "      <th>Bc01-TAG-TAA.gbk</th>\n",
       "      <td>0.965387</td>\n",
       "      <td>0.9920</td>\n",
       "      <td>1.0</td>\n",
       "      <td>0.6805</td>\n",
       "      <td>1.0</td>\n",
       "    </tr>\n",
       "    <tr>\n",
       "      <th>Bc01-TAG-TGA-TAA.gbk</th>\n",
       "      <td>0.961600</td>\n",
       "      <td>0.9905</td>\n",
       "      <td>1.0</td>\n",
       "      <td>0.6210</td>\n",
       "      <td>1.0</td>\n",
       "    </tr>\n",
       "    <tr>\n",
       "      <th>Bc01-TAG-TGA.gbk</th>\n",
       "      <td>0.973572</td>\n",
       "      <td>0.9990</td>\n",
       "      <td>1.0</td>\n",
       "      <td>0.7875</td>\n",
       "      <td>1.0</td>\n",
       "    </tr>\n",
       "    <tr>\n",
       "      <th>Bc01-TAG.gbk</th>\n",
       "      <td>0.972410</td>\n",
       "      <td>0.9970</td>\n",
       "      <td>1.0</td>\n",
       "      <td>0.8580</td>\n",
       "      <td>1.0</td>\n",
       "    </tr>\n",
       "    <tr>\n",
       "      <th>Bc01-TGA-TAA.gbk</th>\n",
       "      <td>0.968794</td>\n",
       "      <td>0.9895</td>\n",
       "      <td>1.0</td>\n",
       "      <td>0.6865</td>\n",
       "      <td>1.0</td>\n",
       "    </tr>\n",
       "    <tr>\n",
       "      <th>Bc01-TGA.gbk</th>\n",
       "      <td>0.981709</td>\n",
       "      <td>1.0000</td>\n",
       "      <td>1.0</td>\n",
       "      <td>0.8845</td>\n",
       "      <td>1.0</td>\n",
       "    </tr>\n",
       "  </tbody>\n",
       "</table>\n",
       "</div>"
      ],
      "text/plain": [
       "                          mean  median  mode  minimum  maximum\n",
       "Bc01-TAA.gbk          0.965650  0.9845   1.0   0.7805      1.0\n",
       "Bc01-TAG-TAA.gbk      0.965387  0.9920   1.0   0.6805      1.0\n",
       "Bc01-TAG-TGA-TAA.gbk  0.961600  0.9905   1.0   0.6210      1.0\n",
       "Bc01-TAG-TGA.gbk      0.973572  0.9990   1.0   0.7875      1.0\n",
       "Bc01-TAG.gbk          0.972410  0.9970   1.0   0.8580      1.0\n",
       "Bc01-TGA-TAA.gbk      0.968794  0.9895   1.0   0.6865      1.0\n",
       "Bc01-TGA.gbk          0.981709  1.0000   1.0   0.8845      1.0"
      ]
     },
     "execution_count": 18,
     "metadata": {},
     "output_type": "execute_result"
    }
   ],
   "source": [
    "df"
   ]
  },
  {
   "cell_type": "code",
   "execution_count": 19,
   "id": "ed67cb17-2cd8-4950-b3a8-ae8689aa8ad2",
   "metadata": {},
   "outputs": [
    {
     "data": {
      "text/plain": [
       "<AxesSubplot:>"
      ]
     },
     "execution_count": 19,
     "metadata": {},
     "output_type": "execute_result"
    },
    {
     "data": {
      "image/png": "[encoded data removed]",
      "text/plain": [
       "<Figure size 432x288 with 1 Axes>"
      ]
     },
     "metadata": {
      "needs_background": "light"
     },
     "output_type": "display_data"
    }
   ],
   "source": [
    "sns.boxplot(data=df)"
   ]
  },
  {
   "cell_type": "code",
   "execution_count": null,
   "id": "ae517100-f57f-4640-bfdd-948532fc6efa",
   "metadata": {},
   "outputs": [],
   "source": []
  }
 ],
 "metadata": {
  "kernelspec": {
   "display_name": "Python [conda env:miniconda3-bioinformatics]",
   "language": "python",
   "name": "conda-env-miniconda3-bioinformatics-py"
  },
  "language_info": {
   "codemirror_mode": {
    "name": "ipython",
    "version": 3
   },
   "file_extension": ".py",
   "mimetype": "text/x-python",
   "name": "python",
   "nbconvert_exporter": "python",
   "pygments_lexer": "ipython3",
   "version": "3.9.13"
  }
 },
 "nbformat": 4,
 "nbformat_minor": 5
}
